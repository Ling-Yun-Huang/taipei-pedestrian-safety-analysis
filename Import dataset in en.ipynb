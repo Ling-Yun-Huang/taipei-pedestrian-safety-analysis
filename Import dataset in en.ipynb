{
 "cells": [
  {
   "cell_type": "code",
   "execution_count": 1,
   "id": "1a6dfd79",
   "metadata": {},
   "outputs": [],
   "source": [
    "import pandas as pd"
   ]
  },
  {
   "cell_type": "code",
   "execution_count": 7,
   "id": "95173a5a",
   "metadata": {},
   "outputs": [],
   "source": [
    "df2020 = pd.read_csv(\"Taipei_accident_2020_en.csv\", low_memory=False).drop(\"Location\",axis=1)\n",
    "df2020['District'] = df2020['District'].str[:2]\n",
    "df2020['Year'] = df2020['Year'] + 1911\n",
    "df2020.to_csv(\"Taipei_accident_2020.csv\", index=False)"
   ]
  },
  {
   "cell_type": "code",
   "execution_count": 8,
   "id": "c90b9838",
   "metadata": {},
   "outputs": [],
   "source": [
    "df2021 = pd.read_csv(\"Taipei_accident_2021_en.csv\", low_memory=False).drop(\"Location\",axis=1)\n",
    "df2021['District'] = df2021['District'].str[:2]\n",
    "df2021['Year'] = df2021['Year'] + 1911\n",
    "df2021.to_csv(\"Taipei_accident_2021.csv\", index=False)"
   ]
  },
  {
   "cell_type": "code",
   "execution_count": 9,
   "id": "09baf026",
   "metadata": {},
   "outputs": [],
   "source": [
    "df2022 = pd.read_csv(\"Taipei_accident_2022_en.csv\", low_memory=False).drop(\"Location\",axis=1)\n",
    "df2022['District'] = df2022['District'].str[:2]\n",
    "df2022['Year'] = df2022['Year'] + 1911\n",
    "df2022.to_csv(\"Taipei_accident_2022.csv\", index=False)"
   ]
  },
  {
   "cell_type": "code",
   "execution_count": 10,
   "id": "90e4647a",
   "metadata": {},
   "outputs": [
    {
     "data": {
      "text/plain": [
       "Year                       int64\n",
       "Month                      int64\n",
       "Day                        int64\n",
       "Hours                      int64\n",
       "Minutes                    int64\n",
       "Category                   int64\n",
       "District                  object\n",
       "Death_24h                  int64\n",
       "Death_30d                  int64\n",
       "Injure                     int64\n",
       "No                         int64\n",
       "Parties_category          object\n",
       "Weather                    int64\n",
       "Light                      int64\n",
       "Road_category              int64\n",
       "Speed_limit                int64\n",
       "Road_type                  int64\n",
       "Accident_site              int64\n",
       "Road_condition1            int64\n",
       "Road_condition2            int64\n",
       "Road_condition3            int64\n",
       "Road_obstacle1             int64\n",
       "Road_obstacle2             int64\n",
       "Traffic_sign1              int64\n",
       "Traffic_sign2              int64\n",
       "Lane_division              int64\n",
       "Lane_division_1            int64\n",
       "Lane_division_2            int64\n",
       "Lane_division_3            int64\n",
       "Accident_type              int64\n",
       "Sex                        int64\n",
       "Age                      float64\n",
       "Injury_degree            float64\n",
       "Main_injury              float64\n",
       "Protection               float64\n",
       "Mobile                   float64\n",
       "Vehicle_use              float64\n",
       "Mobility_status          float64\n",
       "Driving_qualification    float64\n",
       "Driver_license           float64\n",
       "Drinking                 float64\n",
       "Vehicle_impact1          float64\n",
       "Vehicle_impact2           object\n",
       "Cause_code_individual    float64\n",
       "Cause_code_major         float64\n",
       "hit_and_run              float64\n",
       "Occupation               float64\n",
       "Trip_purpose             float64\n",
       "Longitude_x              float64\n",
       "Latitude_y               float64\n",
       "dtype: object"
      ]
     },
     "execution_count": 10,
     "metadata": {},
     "output_type": "execute_result"
    }
   ],
   "source": [
    "df2022.dtypes"
   ]
  },
  {
   "cell_type": "code",
   "execution_count": 11,
   "id": "1f0ce4e3",
   "metadata": {},
   "outputs": [
    {
     "data": {
      "text/plain": [
       "District\n",
       "01大同區    3465\n",
       "02萬華區    3228\n",
       "03中山區    6441\n",
       "04大安區    4871\n",
       "05中正區    5331\n",
       "06松山區    2761\n",
       "07信義區    5524\n",
       "08士林區    4129\n",
       "09北投區    5168\n",
       "10文山區    4838\n",
       "11南港區    2009\n",
       "12內湖區    4668\n",
       "Name: count, dtype: int64"
      ]
     },
     "execution_count": 11,
     "metadata": {},
     "output_type": "execute_result"
    }
   ],
   "source": [
    "df2019 = pd.read_csv(\"Taipei_accident_2019_en.csv\")\n",
    "District_counts = df2019.District.value_counts()\n",
    "District_counts.sort_index()"
   ]
  },
  {
   "cell_type": "code",
   "execution_count": 17,
   "id": "a670d3bb",
   "metadata": {},
   "outputs": [],
   "source": [
    "df2019 = pd.read_csv(\"Taipei_accident_2019_en.csv\", low_memory=False).drop(\"Location\",axis=1)\n",
    "df2019['District'] = df2019['District'].str[:2]\n",
    "df2019['Year'] = df2019['Year'] + 1911\n",
    "df2019.to_csv(\"Taipei_accident_2019.csv\", index=False)"
   ]
  },
  {
   "cell_type": "code",
   "execution_count": 18,
   "id": "b8149b6a",
   "metadata": {},
   "outputs": [
    {
     "data": {
      "text/plain": [
       "Index(['Year', 'Month', 'Day', 'Hours', 'Minutes', 'Category', 'District',\n",
       "       'Death', 'Injure', 'No', 'Vehicles', 'Sex', 'Age', 'Injury_degree',\n",
       "       'Weather', 'Speed_limit', 'Road_type', 'Accident_site'],\n",
       "      dtype='object')"
      ]
     },
     "execution_count": 18,
     "metadata": {},
     "output_type": "execute_result"
    }
   ],
   "source": [
    "df2019.columns"
   ]
  },
  {
   "cell_type": "code",
   "execution_count": null,
   "id": "1ef03e53",
   "metadata": {},
   "outputs": [],
   "source": []
  }
 ],
 "metadata": {
  "kernelspec": {
   "display_name": "Python 3 (ipykernel)",
   "language": "python",
   "name": "python3"
  },
  "language_info": {
   "codemirror_mode": {
    "name": "ipython",
    "version": 3
   },
   "file_extension": ".py",
   "mimetype": "text/x-python",
   "name": "python",
   "nbconvert_exporter": "python",
   "pygments_lexer": "ipython3",
   "version": "3.9.13"
  }
 },
 "nbformat": 4,
 "nbformat_minor": 5
}
